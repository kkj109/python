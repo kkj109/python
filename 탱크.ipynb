{
 "cells": [
  {
   "cell_type": "code",
   "execution_count": 171,
   "metadata": {},
   "outputs": [],
   "source": [
    "import re\n",
    "import os\n",
    "import csv\n",
    "import time\n",
    "import datetime\n",
    "import requests\n",
    "import pandas as pd\n",
    "from bs4 import BeautifulSoup\n",
    "from selenium import webdriver\n",
    "from selenium.webdriver.common.keys import Keys\n",
    "\n",
    "# 탱크옥션 자동 로그인\n",
    "driver = webdriver.Chrome()\n",
    "url = 'http://www.tankauction.co.kr/common/login_box.php'\n",
    "driver.get(url)"
   ]
  },
  {
   "cell_type": "code",
   "execution_count": 172,
   "metadata": {},
   "outputs": [],
   "source": [
    "driver.find_element_by_css_selector('#client_id').send_keys('kkj109')\n",
    "## PW입력\n",
    "driver.find_element_by_css_selector('#pwd_dummy').click()\n",
    "time.sleep(2)\n",
    "driver.find_element_by_name('passwd').send_keys('Kimriwon0710!')\n",
    "## 로그인 버튼 클릭\n",
    "driver.find_element_by_css_selector('#btn_login').click()\n",
    "time.sleep(2)"
   ]
  },
  {
   "cell_type": "code",
   "execution_count": 173,
   "metadata": {},
   "outputs": [],
   "source": [
    "## 종합검색 들어가기\n",
    "driver.find_element_by_xpath(\"/html/body/div[1]/div[1]/div/div[2]/div/li[1]/a\").click()\n",
    "## 아파트선택\n",
    "time.sleep(2)\n",
    "driver.find_element_by_xpath(\"/html/body/div[2]/div[1]/div[3]/div[2]/div[1]/table/tbody/tr[2]/td[1]/select/option[3]\").click()\n",
    "## 매각기일(오늘부터 7일 후 선택)\n",
    "time.sleep(2)\n",
    "new_datetime = datetime.datetime.now() + datetime.timedelta(days=7)\n",
    "new_datetime2 = new_datetime.strftime('%Y%m%d')\n",
    "driver.find_element_by_xpath(\"/html/body/div[2]/div[1]/div[3]/div[2]/div[1]/table/tbody/tr[4]/td[2]/input[1]\").send_keys(new_datetime2)\n",
    "## 최저가격 조정\n",
    "### 최저가, 3천만\n",
    "time.sleep(2)\n",
    "driver.find_element_by_xpath(\"/html/body/div[2]/div[1]/div[3]/div[2]/div[1]/table/tbody/tr[6]/td[1]/select[1]/option[14]\").click()\n",
    "### 최고가, 4억\n",
    "time.sleep(2)\n",
    "driver.find_element_by_xpath(\"/html/body/div[2]/div[1]/div[3]/div[2]/div[1]/table/tbody/tr[6]/td[1]/select[2]/option[14]\").click()\n",
    "## 검색 버튼 클릭\n",
    "time.sleep(2)\n",
    "driver.find_element_by_xpath(\"/html/body/div[2]/div[1]/div[3]/div[2]/div[1]/table/tbody/tr[8]/td/div[2]/input[15]\").click()"
   ]
  },
  {
   "cell_type": "code",
   "execution_count": 181,
   "metadata": {},
   "outputs": [],
   "source": [
    "driver.find_element_by_xpath('//*[@id=\"Prt_none\"]/div/a[5]').click()"
   ]
  },
  {
   "cell_type": "code",
   "execution_count": 182,
   "metadata": {},
   "outputs": [],
   "source": [
    "driver.find_element_by_xpath('//*[@id=\"list_tr_10\"]').click()"
   ]
  },
  {
   "cell_type": "code",
   "execution_count": 183,
   "metadata": {
    "scrolled": true
   },
   "outputs": [
    {
     "name": "stderr",
     "output_type": "stream",
     "text": [
      "<ipython-input-183-c2a9649e0f0c>:2: DeprecationWarning: use driver.switch_to.window instead\n",
      "  driver.switch_to_window(driver.window_handles[1])\n"
     ]
    },
    {
     "data": {
      "text/plain": [
       "{'x': 0, 'y': 0}"
      ]
     },
     "execution_count": 183,
     "metadata": {},
     "output_type": "execute_result"
    }
   ],
   "source": [
    "#driver.find_element_by_xpath('//*[@id=\"list_tr_1\"]').click()\n",
    "driver.switch_to_window(driver.window_handles[1])\n",
    "driver.get_window_position(driver.window_handles[1])"
   ]
  },
  {
   "cell_type": "code",
   "execution_count": 184,
   "metadata": {},
   "outputs": [
    {
     "name": "stdout",
     "output_type": "stream",
     "text": [
      "['2019타경109681']\n",
      "2019타경109681\n",
      "1\n"
     ]
    }
   ],
   "source": [
    "tank_case_number_tmp = driver.find_element_by_xpath('//*[@id=\"view_cont\"]/div[2]/div[2]/ul/li[2]').text\n",
    "tank_case_number_tmp = tank_case_number_tmp.split()[1].split('(')\n",
    "tank_case_number = tank_case_number_tmp[0]\n",
    "try:\n",
    "    tank_case_object = tank_case_number_tmp[1].replace(')',\"\")\n",
    "except IndexError:\n",
    "    tank_case_object = 1\n",
    "\n",
    "print(tank_case_number_tmp)\n",
    "print(tank_case_number)\n",
    "print(tank_case_object)\n"
   ]
  },
  {
   "cell_type": "code",
   "execution_count": 185,
   "metadata": {},
   "outputs": [
    {
     "name": "stdout",
     "output_type": "stream",
     "text": [
      "대전지방법원 본원\n"
     ]
    }
   ],
   "source": [
    "tank_court = driver.find_element_by_xpath('//*[@id=\"view_cont\"]/div[2]/div[2]/ul/li[3]').text\n",
    "tank_court = tank_court.split()[0] + \" \" + tank_court.split()[1]\n",
    "print(tank_court)"
   ]
  },
  {
   "cell_type": "code",
   "execution_count": 186,
   "metadata": {},
   "outputs": [
    {
     "name": "stdout",
     "output_type": "stream",
     "text": [
      "2020.11.16\n"
     ]
    }
   ],
   "source": [
    "tank_death_day_tmp = driver.find_element_by_xpath('//*[@id=\"view_cont\"]/div[5]/table/tbody/tr[1]/td/div[1]/div[2]').text\n",
    "tank_death_day = tank_death_day_tmp.split()[1]\n",
    "print(tank_death_day)"
   ]
  },
  {
   "cell_type": "code",
   "execution_count": 187,
   "metadata": {},
   "outputs": [
    {
     "name": "stdout",
     "output_type": "stream",
     "text": [
      "27.3\n"
     ]
    }
   ],
   "source": [
    "tank_area_used_tmp = driver.find_element_by_xpath('//*[@id=\"view_cont\"]/div[5]/table/tbody/tr[2]/td[1]/span').text\n",
    "tank_area_used = tank_area_used_tmp.split()[0].replace('㎡','')\n",
    "print(tank_area_used)"
   ]
  },
  {
   "cell_type": "code",
   "execution_count": 188,
   "metadata": {},
   "outputs": [
    {
     "name": "stdout",
     "output_type": "stream",
     "text": [
      "16.89\n"
     ]
    }
   ],
   "source": [
    "tank_site_tmp = driver.find_element_by_xpath('//*[@id=\"view_cont\"]/div[5]/table/tbody/tr[3]/td[1]/span').text\n",
    "tank_site = tank_site_tmp.split()[0].replace('㎡','')\n",
    "print(tank_site)"
   ]
  },
  {
   "cell_type": "code",
   "execution_count": 189,
   "metadata": {},
   "outputs": [
    {
     "name": "stdout",
     "output_type": "stream",
     "text": [
      "42900000\n"
     ]
    }
   ],
   "source": [
    "tank_value_max = driver.find_element_by_xpath('//*[@id=\"view_cont\"]/div[5]/table/tbody/tr[2]/td[3]').text\n",
    "tank_value_max = tank_value_max.replace(',','')\n",
    "print(tank_value_max)"
   ]
  },
  {
   "cell_type": "code",
   "execution_count": 190,
   "metadata": {},
   "outputs": [
    {
     "name": "stdout",
     "output_type": "stream",
     "text": [
      "30030000\n"
     ]
    }
   ],
   "source": [
    "tank_value_min = driver.find_element_by_xpath('//*[@id=\"view_cont\"]/div[5]/table/tbody/tr[3]/td[3]/font').text\n",
    "tank_value_min = tank_value_min.replace(',','')\n",
    "print(tank_value_min)"
   ]
  },
  {
   "cell_type": "code",
   "execution_count": 197,
   "metadata": {},
   "outputs": [
    {
     "name": "stdout",
     "output_type": "stream",
     "text": [
      "['정림동', '642', '(13층중1층)']\n",
      "(13층중1층)\n",
      "정림동 642\n",
      "13\n",
      "1\n"
     ]
    }
   ],
   "source": [
    "tank_floor_top_tmp = driver.find_element_by_xpath('//*[@id=\"view_cont\"]/div[8]/table/tbody/tr[2]/td[2]').text\n",
    "print(tank_floor_top_tmp.split())\n",
    "if len(tank_floor_top_tmp.split()) >= 3:\n",
    "    tank_floor_top_tmp = tank_floor_top_tmp.split()[2]\n",
    "    tank_floor_top = tank_floor_top_tmp.split('중')[0].replace('층', '').replace('(','')\n",
    "    tank_floor_curr = tank_floor_top_tmp.split('중')[1].replace('층', '').replace(')','')\n",
    "else:\n",
    "    tank_floor_top = tank_floor_top_tmp.split('중')[0].replace('층', '')\n",
    "    tank_floor_curr = tank_floor_top_tmp.split('중')[1].replace('층', '')\n",
    "print(tank_floor_top)\n",
    "print(tank_floor_curr)"
   ]
  },
  {
   "cell_type": "code",
   "execution_count": 152,
   "metadata": {},
   "outputs": [
    {
     "name": "stdout",
     "output_type": "stream",
     "text": [
      "05\n",
      "20\n",
      "16\n"
     ]
    }
   ],
   "source": [
    "tank_year_tmp = driver.find_element_by_xpath('//*[@id=\"view_cont\"]/div[8]/table/tbody/tr[2]/td[3]').text\n",
    "tank_year_tmp = tank_year_tmp.split('.')[0]\n",
    "print(tank_year_tmp)\n",
    "now_year = datetime.datetime.today().strftime('%y')\n",
    "print(now_year)\n",
    "\n",
    "if int(now_year) >= int(tank_year_tmp):\n",
    "    tank_year = int(now_year) - int(tank_year_tmp) + 1\n",
    "elif int(now_year) < int(tank_year_tmp):\n",
    "    tank_year = int(now_year) - (int(tank_year_tmp) - 100) + 1\n",
    "else:\n",
    "    tank_year = \"연도없음\"\n",
    "print(tank_year)"
   ]
  },
  {
   "cell_type": "code",
   "execution_count": 153,
   "metadata": {},
   "outputs": [
    {
     "name": "stdout",
     "output_type": "stream",
     "text": [
      "충청남도 계룡시 금암동 167-1\n",
      "우림루미아트 107동 8층 802호 \n",
      "충청남도 계룡시 장안로 75\n",
      "tank_addr_0 :  충청남도\n",
      "tank_addr_1 :  계룡시\n",
      "tank_addr_2 :  금암동\n",
      "tank_addr_3 :  167-1\n",
      "tank_addr_4 :  None\n",
      "tank_addr_5 :  None\n",
      "tank_addr_6 :  None\n",
      "tank_addr_7 :  None\n",
      "tank_apt :  우림루미아트\n",
      "tank_apt_d :  107동\n",
      "tank_apt_h :  802호\n",
      "tank_addr_d :  충청남도 계룡시 장안로 75\n"
     ]
    }
   ],
   "source": [
    "tank_addr_tmp = driver.find_element_by_xpath('//*[@id=\"view_cont\"]/div[5]/table/tbody/tr[1]/td/div[2]').text\n",
    "# tank_addr_tmp = tank_addr_tmp.split('전자지도')\n",
    "tank_addr_tmp_00 = tank_addr_tmp.split('전자지도')[0].split(',')[0]\n",
    "tank_addr_tmp_01 = tank_addr_tmp.split('전자지도')[0].split(',')[1].lstrip()\n",
    "tank_addr_tmp_1 = tank_addr_tmp.split('전자지도')[1].split(':')[1].replace(')','').lstrip()\n",
    "\n",
    "tank_addr_0 = tank_addr_tmp_00.split()[0]\n",
    "tank_addr_1 = tank_addr_tmp_00.split()[1]\n",
    "tank_addr_2 = tank_addr_tmp_00.split()[2]\n",
    "tank_addr_3 = tank_addr_tmp_00.split()[3]\n",
    "try:\n",
    "    tank_addr_4 = tank_addr_tmp_00.split()[4]\n",
    "except IndexError:\n",
    "    tank_addr_4 = None\n",
    "try:\n",
    "    tank_addr_5 = tank_addr_tmp_00.split()[5]\n",
    "except IndexError:\n",
    "    tank_addr_5 = None\n",
    "try:\n",
    "    tank_addr_6 = tank_addr_tmp_00.split()[6]\n",
    "except IndexError:\n",
    "    tank_addr_6 = None\n",
    "try:\n",
    "    tank_addr_7 = tank_addr_tmp_00.split()[7]\n",
    "except IndexError:\n",
    "    tank_addr_7 = None\n",
    "tank_apt = tank_addr_tmp_01.split()[0]\n",
    "tank_apt_d = tank_addr_tmp_01.split()[1]\n",
    "tank_apt_h = tank_addr_tmp_01.split()[len(tank_addr_tmp_01.split())-1]\n",
    "tank_addr_d = tank_addr_tmp_1\n",
    "\n",
    "#print(tank_addr_tmp)\n",
    "print(tank_addr_tmp_00)\n",
    "print(tank_addr_tmp_01)\n",
    "print(tank_addr_tmp_1)\n",
    "\n",
    "print(\"tank_addr_0 : \", format(tank_addr_0))\n",
    "print(\"tank_addr_1 : \", format(tank_addr_1))\n",
    "print(\"tank_addr_2 : \", format(tank_addr_2))\n",
    "print(\"tank_addr_3 : \", format(tank_addr_3))\n",
    "print(\"tank_addr_4 : \", format(tank_addr_4))\n",
    "print(\"tank_addr_5 : \", format(tank_addr_5))\n",
    "print(\"tank_addr_6 : \", format(tank_addr_6))\n",
    "print(\"tank_addr_7 : \", format(tank_addr_7))\n",
    "print(\"tank_apt : \", format(tank_apt))\n",
    "print(\"tank_apt_d : \", format(tank_apt_d))\n",
    "print(\"tank_apt_h : \", format(tank_apt_h))\n",
    "print(\"tank_addr_d : \", format(tank_addr_d))"
   ]
  },
  {
   "cell_type": "code",
   "execution_count": 155,
   "metadata": {},
   "outputs": [],
   "source": [
    "if tank_addr_0  == \"서울특별시\":\n",
    "    tank_addr_0  = \"서울시\"\n",
    "elif tank_addr_0  == \"인천광역시\":\n",
    "    tank_addr_0 = \"인천시\"\n",
    "elif tank_addr_0  == \"부산광역시\":\n",
    "    tank_addr_0  = \"부산시\"\n",
    "elif tank_addr_0  == \"대전광역시\":\n",
    "    tank_addr_0  = \"대전시\"\n",
    "elif tank_addr_0  == \"대구광역시\":\n",
    "    tank_addr_0  = \"대구시\"\n",
    "elif tank_addr_0  == \"울산광역시\":\n",
    "    tank_addr_0  = \"울산시\"\n",
    "elif tank_addr_0  == \"세종특별자치시\":\n",
    "    tank_addr_0  = \"세종시\"\n",
    "elif tank_addr_0  == \"광주광역시\":\n",
    "    tank_addr_0  = \"광주시\"\n",
    "elif tank_addr_0  == \"제주특별자치도\":\n",
    "    tank_addr_0  = \"제주시\""
   ]
  },
  {
   "cell_type": "code",
   "execution_count": 156,
   "metadata": {},
   "outputs": [
    {
     "data": {
      "text/html": [
       "<div>\n",
       "<style scoped>\n",
       "    .dataframe tbody tr th:only-of-type {\n",
       "        vertical-align: middle;\n",
       "    }\n",
       "\n",
       "    .dataframe tbody tr th {\n",
       "        vertical-align: top;\n",
       "    }\n",
       "\n",
       "    .dataframe thead th {\n",
       "        text-align: right;\n",
       "    }\n",
       "</style>\n",
       "<table border=\"1\" class=\"dataframe\">\n",
       "  <thead>\n",
       "    <tr style=\"text-align: right;\">\n",
       "      <th></th>\n",
       "      <th>사건번호</th>\n",
       "      <th>법원</th>\n",
       "      <th>매각기일</th>\n",
       "      <th>전용면적</th>\n",
       "      <th>대지권</th>\n",
       "      <th>감정가</th>\n",
       "      <th>최저가</th>\n",
       "      <th>최고층</th>\n",
       "      <th>현재층</th>\n",
       "      <th>사용승인(연차)</th>\n",
       "      <th>...</th>\n",
       "      <th>주소2</th>\n",
       "      <th>주소3</th>\n",
       "      <th>주소4</th>\n",
       "      <th>주소5</th>\n",
       "      <th>주소6</th>\n",
       "      <th>주소7</th>\n",
       "      <th>아파트</th>\n",
       "      <th>동</th>\n",
       "      <th>호</th>\n",
       "      <th>도로명</th>\n",
       "    </tr>\n",
       "  </thead>\n",
       "  <tbody>\n",
       "    <tr>\n",
       "      <th>0</th>\n",
       "      <td>2018타경1939</td>\n",
       "      <td>대전지방법원 논산지원</td>\n",
       "      <td>2020.11.16</td>\n",
       "      <td>84.98㎡ (25.7평)</td>\n",
       "      <td>54.15</td>\n",
       "      <td>195000000</td>\n",
       "      <td>195000000</td>\n",
       "      <td>15</td>\n",
       "      <td>8</td>\n",
       "      <td>16</td>\n",
       "      <td>...</td>\n",
       "      <td>금암동</td>\n",
       "      <td>167-1</td>\n",
       "      <td>None</td>\n",
       "      <td>None</td>\n",
       "      <td>None</td>\n",
       "      <td>None</td>\n",
       "      <td>우림루미아트</td>\n",
       "      <td>107동</td>\n",
       "      <td>802호</td>\n",
       "      <td>충청남도 계룡시 장안로 75</td>\n",
       "    </tr>\n",
       "  </tbody>\n",
       "</table>\n",
       "<p>1 rows × 22 columns</p>\n",
       "</div>"
      ],
      "text/plain": [
       "         사건번호           법원        매각기일            전용면적    대지권        감정가  \\\n",
       "0  2018타경1939  대전지방법원 논산지원  2020.11.16  84.98㎡ (25.7평)  54.15  195000000   \n",
       "\n",
       "         최저가 최고층 현재층  사용승인(연차)  ...  주소2    주소3   주소4   주소5   주소6   주소7  \\\n",
       "0  195000000  15   8        16  ...  금암동  167-1  None  None  None  None   \n",
       "\n",
       "      아파트     동     호              도로명  \n",
       "0  우림루미아트  107동  802호  충청남도 계룡시 장안로 75  \n",
       "\n",
       "[1 rows x 22 columns]"
      ]
     },
     "execution_count": 156,
     "metadata": {},
     "output_type": "execute_result"
    }
   ],
   "source": [
    "tank_list = [{\n",
    "    '사건번호' : tank_case_number,\n",
    "    '법원' : tank_court,\n",
    "    '매각기일' : tank_death_day,\n",
    "    '전용면적' : tanK_area_used,\n",
    "    '대지권' : tank_site,\n",
    "    '감정가' : tank_value_max,\n",
    "    '최저가' : tank_value_min,\n",
    "    '최고층' : tank_floor_top,\n",
    "    '현재층' : tank_floor_curr,\n",
    "    '사용승인(연차)' : tank_year,\n",
    "    '주소0' : tank_addr_0,\n",
    "    '주소1' : tank_addr_1,\n",
    "    '주소2' : tank_addr_2,\n",
    "    '주소3' : tank_addr_3,\n",
    "    '주소4' : tank_addr_4,\n",
    "    '주소5' : tank_addr_5,\n",
    "    '주소6' : tank_addr_6,\n",
    "    '주소7' : tank_addr_7,\n",
    "    '아파트' : tank_apt,\n",
    "    '동' : tank_apt_d,\n",
    "    '호' : tank_apt_h,\n",
    "    '도로명' : tank_addr_d,\n",
    "    }]\n",
    "df = pd.DataFrame(tank_list)\n",
    "df = df[['사건번호', '법원', '매각기일', '전용면적', '대지권', '감정가', '최저가', '최고층', '현재층', '사용승인(연차)', '주소0', '주소1', '주소2', '주소3', '주소4', '주소5', '주소6', '주소7', '아파트', '동', '호', '도로명']]\n",
    "df"
   ]
  },
  {
   "cell_type": "code",
   "execution_count": null,
   "metadata": {},
   "outputs": [],
   "source": []
  }
 ],
 "metadata": {
  "kernelspec": {
   "display_name": "Python 3",
   "language": "python",
   "name": "python3"
  },
  "language_info": {
   "codemirror_mode": {
    "name": "ipython",
    "version": 3
   },
   "file_extension": ".py",
   "mimetype": "text/x-python",
   "name": "python",
   "nbconvert_exporter": "python",
   "pygments_lexer": "ipython3",
   "version": "3.8.6"
  }
 },
 "nbformat": 4,
 "nbformat_minor": 4
}
